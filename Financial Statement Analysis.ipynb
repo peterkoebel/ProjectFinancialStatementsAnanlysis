{
 "cells": [
  {
   "cell_type": "markdown",
   "metadata": {},
   "source": [
    "#Data to be analyzed"
   ]
  },
  {
   "cell_type": "code",
   "execution_count": 36,
   "metadata": {
    "collapsed": true
   },
   "outputs": [],
   "source": [
    "revenue = [16574.19, 8606.36, 8711.40, 9875.61, 8458.95, 8505.42, 17496.48, 9966.06, 10805.72, 16379.46, 16713.27, 17433.56]\n",
    "expenses = [11051.42, 5595.87, 11319.27, 11089.42, 8358.97, 740.27, 3185.93, 5621.52, 6776.63, 14618.91, 10044.47, 3703.98]"
   ]
  },
  {
   "cell_type": "markdown",
   "metadata": {},
   "source": [
    "#Calculating Profit, which is the differences between Revenue and Expenses"
   ]
  },
  {
   "cell_type": "code",
   "execution_count": 37,
   "metadata": {},
   "outputs": [
    {
     "data": {
      "text/plain": [
       "[5522.769999999999,\n",
       " 3010.4900000000007,\n",
       " -2607.870000000001,\n",
       " -1213.8099999999995,\n",
       " 99.98000000000138,\n",
       " 7765.15,\n",
       " 14310.55,\n",
       " 4344.539999999999,\n",
       " 4029.0899999999992,\n",
       " 1760.5499999999993,\n",
       " 6668.800000000001,\n",
       " 13729.580000000002]"
      ]
     },
     "execution_count": 37,
     "metadata": {},
     "output_type": "execute_result"
    }
   ],
   "source": [
    "profit = list([])\n",
    "for i in range (0, len(revenue)):\n",
    "    profit.append(revenue[i] - expenses[i])\n",
    "profit"
   ]
  },
  {
   "cell_type": "markdown",
   "metadata": {},
   "source": [
    "#Calculating Tax as 30% of Profit and rounding to 2 Decimal Points"
   ]
  },
  {
   "cell_type": "code",
   "execution_count": 38,
   "metadata": {},
   "outputs": [
    {
     "data": {
      "text/plain": [
       "[1656.83,\n",
       " 903.15,\n",
       " -782.36,\n",
       " -364.14,\n",
       " 29.99,\n",
       " 2329.54,\n",
       " 4293.16,\n",
       " 1303.36,\n",
       " 1208.73,\n",
       " 528.16,\n",
       " 2000.64,\n",
       " 4118.87]"
      ]
     },
     "execution_count": 38,
     "metadata": {},
     "output_type": "execute_result"
    }
   ],
   "source": [
    "tax = [round(i * 0.3,2) for i in profit]\n",
    "tax"
   ]
  },
  {
   "cell_type": "markdown",
   "metadata": {},
   "source": [
    "#Calculating Profit remaining after Tax is deducted"
   ]
  },
  {
   "cell_type": "code",
   "execution_count": 39,
   "metadata": {},
   "outputs": [
    {
     "data": {
      "text/plain": [
       "[3865.9399999999987,\n",
       " 2107.3400000000006,\n",
       " -1825.5100000000007,\n",
       " -849.6699999999995,\n",
       " 69.99000000000139,\n",
       " 5435.61,\n",
       " 10017.39,\n",
       " 3041.1799999999994,\n",
       " 2820.359999999999,\n",
       " 1232.3899999999994,\n",
       " 4668.160000000001,\n",
       " 9610.710000000003]"
      ]
     },
     "execution_count": 39,
     "metadata": {},
     "output_type": "execute_result"
    }
   ],
   "source": [
    "profit_after_tax = list([])\n",
    "for i in range (0, len(profit)):\n",
    "    profit_after_tax.append(profit[i] - tax[i])\n",
    "profit_after_tax"
   ]
  },
  {
   "cell_type": "markdown",
   "metadata": {},
   "source": [
    "#Calculating the Profit Margin as Profit after Tax over Revenue\n",
    "#Rounding to 2 Decimal Points, then multiplying by 100 to show as a percent"
   ]
  },
  {
   "cell_type": "code",
   "execution_count": 40,
   "metadata": {},
   "outputs": [
    {
     "data": {
      "text/plain": [
       "[23.33,\n",
       " 24.49,\n",
       " -20.96,\n",
       " -8.6,\n",
       " 0.83,\n",
       " 63.91,\n",
       " 57.25,\n",
       " 30.52,\n",
       " 26.1,\n",
       " 7.52,\n",
       " 27.93,\n",
       " 55.13]"
      ]
     },
     "execution_count": 40,
     "metadata": {},
     "output_type": "execute_result"
    }
   ],
   "source": [
    "profit_margin = list([])\n",
    "for i in range (0, len(profit)):\n",
    "    profit_margin.append(profit_after_tax[i] / revenue[i])\n",
    "\n",
    "profit_margin = [round((i*100),2) for i in profit_margin]\n",
    "profit_margin"
   ]
  },
  {
   "cell_type": "markdown",
   "metadata": {},
   "source": [
    "#Calculating the Mean Profit after Tax for 12 Months"
   ]
  },
  {
   "cell_type": "code",
   "execution_count": 41,
   "metadata": {},
   "outputs": [
    {
     "data": {
      "text/plain": [
       "3349.4908333333333"
      ]
     },
     "execution_count": 41,
     "metadata": {},
     "output_type": "execute_result"
    }
   ],
   "source": [
    "mean_pat = sum(profit_after_tax) / len(profit_after_tax)\n",
    "mean_pat"
   ]
  },
  {
   "cell_type": "markdown",
   "metadata": {},
   "source": [
    "#Finding the Good Months, with Above-Mean Profit after Tax"
   ]
  },
  {
   "cell_type": "code",
   "execution_count": 42,
   "metadata": {},
   "outputs": [
    {
     "data": {
      "text/plain": [
       "[True, False, False, False, False, True, True, False, False, False, True, True]"
      ]
     },
     "execution_count": 42,
     "metadata": {},
     "output_type": "execute_result"
    }
   ],
   "source": [
    "good_months = list([])\n",
    "for i in range (0, len(profit)):\n",
    "    good_months.append(profit_after_tax[i] > mean_pat)\n",
    "good_months"
   ]
  },
  {
   "cell_type": "markdown",
   "metadata": {},
   "source": [
    "#Finding the Bad Months, the opposite of Good Months"
   ]
  },
  {
   "cell_type": "code",
   "execution_count": 43,
   "metadata": {},
   "outputs": [
    {
     "data": {
      "text/plain": [
       "[False, True, True, True, True, False, False, True, True, True, False, False]"
      ]
     },
     "execution_count": 43,
     "metadata": {},
     "output_type": "execute_result"
    }
   ],
   "source": [
    "bad_months = list([])\n",
    "for i in range (0, len(profit)):\n",
    "    bad_months.append(not (good_months[i]))\n",
    "bad_months"
   ]
  },
  {
   "cell_type": "markdown",
   "metadata": {},
   "source": [
    "#The Best Month is where Profit after Tax is equal to the Maximum"
   ]
  },
  {
   "cell_type": "code",
   "execution_count": 44,
   "metadata": {},
   "outputs": [
    {
     "data": {
      "text/plain": [
       "[False,\n",
       " False,\n",
       " False,\n",
       " False,\n",
       " False,\n",
       " False,\n",
       " True,\n",
       " False,\n",
       " False,\n",
       " False,\n",
       " False,\n",
       " False]"
      ]
     },
     "execution_count": 44,
     "metadata": {},
     "output_type": "execute_result"
    }
   ],
   "source": [
    "best_month = list([])\n",
    "for i in range (0, len(profit)):\n",
    "    best_month.append(profit_after_tax[i] == max(profit_after_tax))\n",
    "best_month"
   ]
  },
  {
   "cell_type": "markdown",
   "metadata": {},
   "source": [
    "#The Worst Month is where Profit after Tax is equal to the Minimum"
   ]
  },
  {
   "cell_type": "code",
   "execution_count": 45,
   "metadata": {},
   "outputs": [
    {
     "data": {
      "text/plain": [
       "[False,\n",
       " False,\n",
       " True,\n",
       " False,\n",
       " False,\n",
       " False,\n",
       " False,\n",
       " False,\n",
       " False,\n",
       " False,\n",
       " False,\n",
       " False]"
      ]
     },
     "execution_count": 45,
     "metadata": {},
     "output_type": "execute_result"
    }
   ],
   "source": [
    "worst_month = list([])\n",
    "for i in range (0, len(profit)):\n",
    "    worst_month.append(profit_after_tax[i] == min(profit_after_tax))\n",
    "worst_month"
   ]
  },
  {
   "cell_type": "markdown",
   "metadata": {},
   "source": [
    "#Converting all Calculations to Units of One Thousand Dollars"
   ]
  },
  {
   "cell_type": "code",
   "execution_count": 51,
   "metadata": {},
   "outputs": [],
   "source": [
    "revenue_K = [round((i/1000), 2) for i in revenue]\n",
    "expenses_K = [round((i/1000), 2) for i in expenses]\n",
    "profit_K = [round((i/1000), 2) for i in profit]\n",
    "profit_after_tax_K = [round((i/1000), 2) for i in profit_after_tax]\n",
    "\n",
    "mean_pat_K = mean_pat/1000\n",
    "mean_pat_K  = round(mean_pat_K ,2)"
   ]
  },
  {
   "cell_type": "markdown",
   "metadata": {},
   "source": [
    "#Printing the Results"
   ]
  },
  {
   "cell_type": "code",
   "execution_count": 52,
   "metadata": {},
   "outputs": [
    {
     "name": "stdout",
     "output_type": "stream",
     "text": [
      "Revenue :\n",
      "[16.57, 8.61, 8.71, 9.88, 8.46, 8.51, 17.5, 9.97, 10.81, 16.38, 16.71, 17.43]\n",
      "Expenses :\n",
      "[11.05, 5.6, 11.32, 11.09, 8.36, 0.74, 3.19, 5.62, 6.78, 14.62, 10.04, 3.7]\n",
      "Profit :\n",
      "[5.52, 3.01, -2.61, -1.21, 0.1, 7.77, 14.31, 4.34, 4.03, 1.76, 6.67, 13.73]\n",
      "Profit after Tax :\n",
      "[3.87, 2.11, -1.83, -0.85, 0.07, 5.44, 10.02, 3.04, 2.82, 1.23, 4.67, 9.61]\n",
      "Profit margin :\n",
      "[23.33, 24.49, -20.96, -8.6, 0.83, 63.91, 57.25, 30.52, 26.1, 7.52, 27.93, 55.13]\n",
      "Mean Profit after Tax :\n",
      "3.35\n",
      "Good Months :\n",
      "[True, False, False, False, False, True, True, False, False, False, True, True]\n",
      "Bad Months :\n",
      "[False, True, True, True, True, False, False, True, True, True, False, False]\n",
      "Best Month :\n",
      "[False, False, False, False, False, False, True, False, False, False, False, False]\n",
      "Worst Month :\n",
      "[False, False, True, False, False, False, False, False, False, False, False, False]\n"
     ]
    }
   ],
   "source": [
    "print (\"Revenue :\") \n",
    "print (revenue_K)\n",
    "print (\"Expenses :\") \n",
    "print (expenses_K)\n",
    "print (\"Profit :\")\n",
    "print (profit_K)\n",
    "print (\"Profit after Tax :\")\n",
    "print (profit_after_tax_K)\n",
    "print (\"Profit margin :\")\n",
    "print (profit_margin)\n",
    "print (\"Mean Profit after Tax :\")\n",
    "print (mean_pat_1K)\n",
    "print (\"Good Months :\")\n",
    "print (good_months)\n",
    "print (\"Bad Months :\")\n",
    "print (bad_months)\n",
    "print (\"Best Month :\")\n",
    "print (best_month)\n",
    "print (\"Worst Month :\")\n",
    "print (worst_month)"
   ]
  }
 ],
 "metadata": {
  "kernelspec": {
   "display_name": "Python 3",
   "language": "python",
   "name": "python3"
  },
  "language_info": {
   "codemirror_mode": {
    "name": "ipython",
    "version": 3
   },
   "file_extension": ".py",
   "mimetype": "text/x-python",
   "name": "python",
   "nbconvert_exporter": "python",
   "pygments_lexer": "ipython3",
   "version": "3.6.2"
  }
 },
 "nbformat": 4,
 "nbformat_minor": 2
}
